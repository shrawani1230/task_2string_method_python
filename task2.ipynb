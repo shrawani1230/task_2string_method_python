{
 "cells": [
  {
   "cell_type": "markdown",
   "id": "ab9066bb-26ab-4768-9796-38b828c1605f",
   "metadata": {},
   "source": [
    "# 1. strip method"
   ]
  },
  {
   "cell_type": "code",
   "execution_count": 2,
   "id": "b05161a3-74d9-4d6d-aa7f-e54313bd40fb",
   "metadata": {},
   "outputs": [
    {
     "data": {
      "text/plain": [
       "'hellow world'"
      ]
     },
     "execution_count": 2,
     "metadata": {},
     "output_type": "execute_result"
    }
   ],
   "source": [
    "\"  hellow world  \".strip()\n",
    "Help in removing the leading and trailing whitespaces in a string\n"
   ]
  },
  {
   "cell_type": "code",
   "execution_count": 6,
   "id": "d72a09c4-0ba3-43c9-8e69-5e61f6554dbb",
   "metadata": {},
   "outputs": [
    {
     "data": {
      "text/plain": [
       "'hello world'"
      ]
     },
     "execution_count": 6,
     "metadata": {},
     "output_type": "execute_result"
    }
   ],
   "source": [
    "\n",
    "\"###hello world###\".strip('#')\n",
    "can remove any leading and trailing character."
   ]
  },
  {
   "cell_type": "markdown",
   "id": "92cabe11-4776-47d3-b4ae-1213a307093b",
   "metadata": {},
   "source": [
    "# 2. capitalize"
   ]
  },
  {
   "cell_type": "code",
   "execution_count": 15,
   "id": "97f25f33-7327-4f21-ac74-b7806d058556",
   "metadata": {},
   "outputs": [
    {
     "data": {
      "text/plain": [
       "'My name is prasheel'"
      ]
     },
     "execution_count": 15,
     "metadata": {},
     "output_type": "execute_result"
    }
   ],
   "source": [
    "str='my name is prasheel'\n",
    "\n",
    "str.capitalize()\n",
    "return the exact copy of the string with only the first letter in upper case."
   ]
  },
  {
   "cell_type": "markdown",
   "id": "c9f681df-63e5-4839-ba0e-d24227890534",
   "metadata": {},
   "source": [
    "# 3. find"
   ]
  },
  {
   "cell_type": "markdown",
   "id": "7c9f7b1f-0232-4849-a3db-fe55539cc359",
   "metadata": {},
   "source": [
    ".the function is used to search the first occurance of the substring in the given string.\n",
    ".it returns the index at which the substring start.\n",
    ". it returns -1 if the substring does occur in the string.\n",
    "\n"
   ]
  },
  {
   "cell_type": "code",
   "execution_count": 25,
   "id": "7c4c12a1-44a9-4897-9bab-cb2d37794738",
   "metadata": {},
   "outputs": [
    {
     "data": {
      "text/plain": [
       "0"
      ]
     },
     "execution_count": 25,
     "metadata": {},
     "output_type": "execute_result"
    }
   ],
   "source": [
    "str='wellcome'\n",
    "str.find('we')"
   ]
  },
  {
   "cell_type": "code",
   "execution_count": 27,
   "id": "602ac0cd-cdb5-4af6-a411-c4b545b3bc46",
   "metadata": {},
   "outputs": [
    {
     "data": {
      "text/plain": [
       "4"
      ]
     },
     "execution_count": 27,
     "metadata": {},
     "output_type": "execute_result"
    }
   ],
   "source": [
    "str.find('co', 4,8)"
   ]
  },
  {
   "cell_type": "code",
   "execution_count": 29,
   "id": "df8872dc-8dea-4d2f-b691-254cb2d0a1dc",
   "metadata": {},
   "outputs": [
    {
     "data": {
      "text/plain": [
       "-1"
      ]
     },
     "execution_count": 29,
     "metadata": {},
     "output_type": "execute_result"
    }
   ],
   "source": [
    "str.find('cd', 4,8)"
   ]
  },
  {
   "cell_type": "markdown",
   "id": "66f024c4-9b46-4fe0-8d3e-34214d8a3a4e",
   "metadata": {},
   "source": [
    "# 4. isalnum"
   ]
  },
  {
   "cell_type": "markdown",
   "id": "979aee05-53ff-4832-afa7-804f44d8d520",
   "metadata": {},
   "source": [
    "* return true if the string contains only letters or digit\n",
    "* it returns false, if the string contsins any special character like _,@,#,*etc.\n",
    "\n"
   ]
  },
  {
   "cell_type": "code",
   "execution_count": 34,
   "id": "bd83ef85-5dc7-45d2-bf75-32b4dc70f2ee",
   "metadata": {},
   "outputs": [
    {
     "data": {
      "text/plain": [
       "True"
      ]
     },
     "execution_count": 34,
     "metadata": {},
     "output_type": "execute_result"
    }
   ],
   "source": [
    "'python123'.isalnum()"
   ]
  },
  {
   "cell_type": "code",
   "execution_count": 16,
   "id": "90cfb483-8df7-45d5-a3f6-1a3d9696ec07",
   "metadata": {},
   "outputs": [
    {
     "data": {
      "text/plain": [
       "False"
      ]
     },
     "execution_count": 16,
     "metadata": {},
     "output_type": "execute_result"
    }
   ],
   "source": [
    "'python_123'.isalnum()"
   ]
  },
  {
   "cell_type": "code",
   "execution_count": 20,
   "id": "b446b1fe-27f6-457d-9139-c7dea863af52",
   "metadata": {},
   "outputs": [
    {
     "data": {
      "text/plain": [
       "False"
      ]
     },
     "execution_count": 20,
     "metadata": {},
     "output_type": "execute_result"
    }
   ],
   "source": [
    "'python@123'.isalnum()"
   ]
  },
  {
   "cell_type": "code",
   "execution_count": 24,
   "id": "789d794e-9b8b-4e85-a311-d58f69f4cd02",
   "metadata": {},
   "outputs": [
    {
     "data": {
      "text/plain": [
       "False"
      ]
     },
     "execution_count": 24,
     "metadata": {},
     "output_type": "execute_result"
    }
   ],
   "source": [
    "'python#123'.isalnum()"
   ]
  },
  {
   "cell_type": "markdown",
   "id": "04ce9f8f-4b13-4b69-ba16-b46edbc79f5d",
   "metadata": {},
   "source": [
    "# 5.isalpha"
   ]
  },
  {
   "cell_type": "code",
   "execution_count": 42,
   "id": "40e5941c-064c-4eae-aed6-b53bfbd267d3",
   "metadata": {},
   "outputs": [
    {
     "name": "stdout",
     "output_type": "stream",
     "text": [
      "False\n"
     ]
    }
   ],
   "source": [
    "text = \"market123\"\n",
    "result = text.isalpha()\n",
    "print(result)"
   ]
  },
  {
   "cell_type": "code",
   "execution_count": 44,
   "id": "74c6c646-1a10-400f-b2d9-a63bc7d59ea5",
   "metadata": {},
   "outputs": [
    {
     "name": "stdout",
     "output_type": "stream",
     "text": [
      "False\n"
     ]
    }
   ],
   "source": [
    "text = \"i am technician\"\n",
    "result = text.isalpha()\n",
    "print(result)"
   ]
  },
  {
   "cell_type": "code",
   "execution_count": 46,
   "id": "f9b67a5a-276f-44e3-923c-f87dd2b3d8f8",
   "metadata": {},
   "outputs": [
    {
     "name": "stdout",
     "output_type": "stream",
     "text": [
      "True\n"
     ]
    }
   ],
   "source": [
    "text = \"market\"\n",
    "result = text.isalpha()\n",
    "print(result)"
   ]
  },
  {
   "cell_type": "markdown",
   "id": "1fe4ca01-2113-4957-a8e5-9acfd2588f7e",
   "metadata": {},
   "source": [
    "# 6. count "
   ]
  },
  {
   "cell_type": "code",
   "execution_count": 55,
   "id": "bbbb546a-e9ff-4f47-8408-2fb97bd35457",
   "metadata": {},
   "outputs": [
    {
     "name": "stdout",
     "output_type": "stream",
     "text": [
      "2\n"
     ]
    }
   ],
   "source": [
    "count() Returns the number of times a specified value occurs in a string\n",
    "text = \"johny johny yes papa\"\n",
    "count_johny = text.count(\"johny\")\n",
    "print(count_johny)\n",
    "\n",
    "   "
   ]
  },
  {
   "cell_type": "code",
   "execution_count": 61,
   "id": "0eb4033d-689e-4602-8639-d8b9c06d4279",
   "metadata": {},
   "outputs": [
    {
     "name": "stdout",
     "output_type": "stream",
     "text": [
      "4\n"
     ]
    }
   ],
   "source": [
    "text = \"mango is red, tomato is red, stoberry is red and the red are cherry\"\n",
    "count_no = text.count(\"red\")\n",
    "print(count_no)\n"
   ]
  },
  {
   "cell_type": "markdown",
   "id": "f7cb51f7-d871-4bc9-9dd4-0b93618f85be",
   "metadata": {},
   "source": [
    "# 7. center string method\n",
    "#####This method will center align the string using a specified character(space is deault) as the fill character"
   ]
  },
  {
   "cell_type": "code",
   "execution_count": 80,
   "id": "fcf2626a-3fbc-49e1-bffc-7d7a810bb0c5",
   "metadata": {},
   "outputs": [
    {
     "name": "stdout",
     "output_type": "stream",
     "text": [
      " '       zomato       ' \n"
     ]
    }
   ],
   "source": [
    "text = \"zomato\"\n",
    "result = text.center(20)\n",
    "print(f\" '{result}' \")"
   ]
  },
  {
   "cell_type": "code",
   "execution_count": 82,
   "id": "5ca87e61-50db-4fed-9fb1-8235e0add9dd",
   "metadata": {},
   "outputs": [
    {
     "name": "stdout",
     "output_type": "stream",
     "text": [
      " '       zomato       ' \n"
     ]
    }
   ],
   "source": [
    "str = \"text\"\n",
    "result = text.center(20)\n",
    "print(f\" '{result}' \")"
   ]
  },
  {
   "cell_type": "markdown",
   "id": "585c764a-dd55-488f-a01a-21bcb684866a",
   "metadata": {},
   "source": [
    "# 8. encode() \n",
    "#### returns an encoded version of the string"
   ]
  },
  {
   "cell_type": "code",
   "execution_count": 94,
   "id": "f4275f7c-270c-4203-947e-423c8abced56",
   "metadata": {},
   "outputs": [
    {
     "name": "stdout",
     "output_type": "stream",
     "text": [
      "b' this is my laptop'\n"
     ]
    }
   ],
   "source": [
    "str= \" this is my laptop\"\n",
    "result = str.encode()\n",
    "print(result)"
   ]
  },
  {
   "cell_type": "code",
   "execution_count": 102,
   "id": "1ce2bf14-efb5-48e0-99ce-8b4fcfa96cac",
   "metadata": {},
   "outputs": [
    {
     "name": "stdout",
     "output_type": "stream",
     "text": [
      "b'My name is Star'\n"
     ]
    }
   ],
   "source": [
    "text = \"My name is Star\"\n",
    "R = text.encode()\n",
    "print(R)"
   ]
  },
  {
   "cell_type": "markdown",
   "id": "fcab43df-ca1f-410d-9ab6-5e9311dd0ce5",
   "metadata": {},
   "source": [
    "# 9. endswith()\n",
    "#### Returns true if the string end with the specified end with values"
   ]
  },
  {
   "cell_type": "code",
   "execution_count": 105,
   "id": "8e4a7436-472d-4cbb-a3fd-c85ca0d69501",
   "metadata": {},
   "outputs": [
    {
     "name": "stdout",
     "output_type": "stream",
     "text": [
      "True\n"
     ]
    }
   ],
   "source": [
    "str = \" I like mango\"\n",
    "result = str.endswith('mango')\n",
    "print(result)"
   ]
  },
  {
   "cell_type": "markdown",
   "id": "4e5079d3-facd-4478-b063-0b30aac1d7a1",
   "metadata": {},
   "source": [
    "str = \" I like mango\"\n",
    "result = str.endswith('like')\n",
    "print(result)"
   ]
  },
  {
   "cell_type": "markdown",
   "id": "274ac674-b48e-4e26-a0e5-21df39680dc4",
   "metadata": {},
   "source": [
    "# 10. expandtabs()\n",
    "### set the tab size of the string"
   ]
  },
  {
   "cell_type": "code",
   "execution_count": 122,
   "id": "26dee414-c6d3-4151-9b28-45bf2f1de8cb",
   "metadata": {},
   "outputs": [
    {
     "name": "stdout",
     "output_type": "stream",
     "text": [
      "this is my new 4        cars\n"
     ]
    }
   ],
   "source": [
    "str = \"this is my new 4\\tcars\"\n",
    "expanded_str = str.expandtabs()\n",
    "print(expanded_str)"
   ]
  },
  {
   "cell_type": "code",
   "execution_count": 126,
   "id": "5f480a9b-8b84-458f-b2c0-91be464eee85",
   "metadata": {},
   "outputs": [
    {
     "name": "stdout",
     "output_type": "stream",
     "text": [
      "this    is my new 4 cars\n"
     ]
    }
   ],
   "source": [
    "str = \"this\\tis my new 4 cars\"\n",
    "expanded_str = str.expandtabs()\n",
    "print(expanded_str)"
   ]
  },
  {
   "cell_type": "markdown",
   "id": "3e0a2528-ef75-42bc-902b-f45fc18619cc",
   "metadata": {},
   "source": [
    "# 11. format()\n",
    "### Formate specified values in a string"
   ]
  },
  {
   "cell_type": "code",
   "execution_count": 25,
   "id": "a0566597-0353-40f6-9e70-45d8bba00758",
   "metadata": {},
   "outputs": [
    {
     "name": "stdout",
     "output_type": "stream",
     "text": [
      "my name is sam, and I am 32\n"
     ]
    }
   ],
   "source": [
    "age = 32\n",
    "txt = \"my name is sam, and I am {}\"\n",
    "print(txt.format(age))"
   ]
  },
  {
   "cell_type": "code",
   "execution_count": 36,
   "id": "3ce54786-3bb3-40c4-9f88-385c7c1454e1",
   "metadata": {},
   "outputs": [
    {
     "name": "stdout",
     "output_type": "stream",
     "text": [
      "my name is shrawani and my age is 4.I belong to nagpur\n"
     ]
    }
   ],
   "source": [
    "age=4\n",
    "name=\"shrawani\"\n",
    "city=\"nagpur\"\n",
    "str=\"my name is {} and my age is {}.I belong to {}\"\n",
    "print(str.format(name,age,city))\n",
    "\n"
   ]
  },
  {
   "cell_type": "markdown",
   "id": "ad5b3aaf-d87a-453d-bfc6-08e50fd8aaad",
   "metadata": {},
   "source": [
    "# 12. join()\n",
    "### method takes all item in an iterable and join them into one string"
   ]
  },
  {
   "cell_type": "code",
   "execution_count": 6,
   "id": "b7cb9ded-cbae-48a3-905a-155545addc37",
   "metadata": {},
   "outputs": [
    {
     "name": "stdout",
     "output_type": "stream",
     "text": [
      "van---car---bycycle\n"
     ]
    }
   ],
   "source": [
    " strA=('van','car','bycycle')\n",
    " strB='---'.join(strA)\n",
    "print(strB)"
   ]
  },
  {
   "cell_type": "code",
   "execution_count": 14,
   "id": "abc795df-3414-487b-9528-8ce89f99d0cd",
   "metadata": {},
   "outputs": [
    {
     "name": "stdout",
     "output_type": "stream",
     "text": [
      "1236----7896----4563\n"
     ]
    }
   ],
   "source": [
    "strA=('1236','7896','4563')\n",
    "strB='----'.join(strA)\n",
    "print(strB)"
   ]
  },
  {
   "cell_type": "markdown",
   "id": "1c068dc2-a997-4a0b-b310-3c04310c940e",
   "metadata": {},
   "source": [
    "# 13. replace() \n",
    "### replace a specified phrase with another specified phrase\n"
   ]
  },
  {
   "cell_type": "code",
   "execution_count": 17,
   "id": "843aeefb-11d9-4c4f-a32a-2fd2c598210e",
   "metadata": {},
   "outputs": [
    {
     "name": "stdout",
     "output_type": "stream",
     "text": [
      "My green balloon, my green ballon,Flew up up to the sky\n"
     ]
    }
   ],
   "source": [
    " str1='My red balloon, my red ballon,Flew up up to the sky'\n",
    "str2=str1.replace('red','green')\n",
    "print(str2)"
   ]
  },
  {
   "cell_type": "markdown",
   "id": "718d8c94-4453-4dcd-8083-46cd4c7e8dcc",
   "metadata": {},
   "source": [
    "# 14.rfind()\n",
    "### method find the last occurance of the specified value,returns -1 if value was not found"
   ]
  },
  {
   "cell_type": "code",
   "execution_count": 22,
   "id": "5031d054-8de2-4cc9-8e04-d17980529e8d",
   "metadata": {},
   "outputs": [
    {
     "name": "stdout",
     "output_type": "stream",
     "text": [
      "-1\n"
     ]
    }
   ],
   "source": [
    "str1='my name is shrawani'\n",
    "str2=str1.rfind('pari')\n",
    "print(str2)"
   ]
  },
  {
   "cell_type": "code",
   "execution_count": 24,
   "id": "d47854e5-c159-4a23-a26b-3239fdca9f0f",
   "metadata": {},
   "outputs": [
    {
     "name": "stdout",
     "output_type": "stream",
     "text": [
      "17\n"
     ]
    }
   ],
   "source": [
    "str1='my name is shrawani'\n",
    "str2=str1.rfind('ni')\n",
    "print(str2)"
   ]
  },
  {
   "cell_type": "markdown",
   "id": "5af330ad-bae2-45c0-97f6-e104fd76efb5",
   "metadata": {},
   "source": [
    "# 15. rindex()\n",
    "### search the string for a specified value and returns the last position of where it was found"
   ]
  },
  {
   "cell_type": "code",
   "execution_count": 29,
   "id": "56530d20-9bd3-4a40-8878-7c0aa602a1a8",
   "metadata": {},
   "outputs": [
    {
     "name": "stdout",
     "output_type": "stream",
     "text": [
      "18\n"
     ]
    }
   ],
   "source": [
    "str1= 'sam like a orange and mango'\n",
    "str2= str1.index('and')\n",
    "print(str2)"
   ]
  },
  {
   "cell_type": "code",
   "execution_count": 31,
   "id": "c434f88e-c864-4ff4-9611-76035d8baea5",
   "metadata": {},
   "outputs": [
    {
     "name": "stdout",
     "output_type": "stream",
     "text": [
      "3\n"
     ]
    }
   ],
   "source": [
    "str1= 'water colour is trasparent'\n",
    "str2= str1.index('e')\n",
    "print(str2)"
   ]
  },
  {
   "cell_type": "markdown",
   "id": "89885b01-805c-4ae4-b038-7a2dd49c64ad",
   "metadata": {},
   "source": [
    "# 16. rjust\n",
    "### method will right align the string,using a specified character() inside the brackets as the fill character"
   ]
  },
  {
   "cell_type": "code",
   "execution_count": 44,
   "id": "bb1ddb7f-d5cd-409e-b38c-ec0304d69a7f",
   "metadata": {},
   "outputs": [
    {
     "name": "stdout",
     "output_type": "stream",
     "text": [
      "brush up and down and alaround to keep them nice and neet brush your teeth,brush your teeth,keep them always treat\n"
     ]
    }
   ],
   "source": [
    "str1='brush your teeth,brush your teeth,keep them always treat'\n",
    "str2='brush up and down and alaround to keep them nice and neet'\n",
    "str3= str1.rjust(50)\n",
    "print(str2,str3)"
   ]
  },
  {
   "cell_type": "code",
   "execution_count": 46,
   "id": "14824121-4650-497f-a931-e0b30ec37e03",
   "metadata": {},
   "outputs": [
    {
     "name": "stdout",
     "output_type": "stream",
     "text": [
      "brush up and down                                   brush your teeth\n"
     ]
    }
   ],
   "source": [
    "str1='brush your teeth'\n",
    "str2='brush up and down'\n",
    "str3= str1.rjust(50)\n",
    "print(str2,str3)"
   ]
  },
  {
   "cell_type": "markdown",
   "id": "dfe5397b-3ccf-4291-ac19-37830b644abb",
   "metadata": {},
   "source": [
    "# 17. rpartition()\n",
    "#### retuens a tuple where the string is parted into three parts\n",
    "\n"
   ]
  },
  {
   "cell_type": "code",
   "execution_count": 51,
   "id": "e3edc2ed-bfd1-4d08-82e1-d92c73125c25",
   "metadata": {},
   "outputs": [
    {
     "name": "stdout",
     "output_type": "stream",
     "text": [
      "('i love my country', '', '')\n"
     ]
    }
   ],
   "source": [
    "str= \"i love my country\"\n",
    "result= str.partition(\",\")\n",
    "print(result)"
   ]
  },
  {
   "cell_type": "code",
   "execution_count": 55,
   "id": "705e7e1c-a72c-4bab-9114-f76ea23ace60",
   "metadata": {},
   "outputs": [
    {
     "name": "stdout",
     "output_type": "stream",
     "text": [
      "('be', ' ', 'carefully')\n"
     ]
    }
   ],
   "source": [
    "str= \"be carefully\"\n",
    "result= str.partition(\" \")\n",
    "print(result)"
   ]
  },
  {
   "cell_type": "markdown",
   "id": "9b0ac424-e358-4655-a65e-6d842578866c",
   "metadata": {},
   "source": [
    "# 18.isdecimal()\n",
    "### returns true if all character in the string are decimals"
   ]
  },
  {
   "cell_type": "code",
   "execution_count": 59,
   "id": "d0750796-a2ba-46ba-bae6-6c10a4a5c27d",
   "metadata": {},
   "outputs": [
    {
     "name": "stdout",
     "output_type": "stream",
     "text": [
      "False\n"
     ]
    }
   ],
   "source": [
    "str1='S.h.r.a.w.a.n.i'\n",
    "str2=str1.isdecimal()\n",
    "print(str2)"
   ]
  },
  {
   "cell_type": "code",
   "execution_count": 61,
   "id": "91d2df73-444d-4f45-95ce-4813eb058232",
   "metadata": {},
   "outputs": [
    {
     "name": "stdout",
     "output_type": "stream",
     "text": [
      "True\n"
     ]
    }
   ],
   "source": [
    "str1='456321'\n",
    "str2=str1.isdecimal()\n",
    "print(str2)"
   ]
  },
  {
   "cell_type": "markdown",
   "id": "c3f26578-e9dd-46c4-8837-84bd7ff0b8cb",
   "metadata": {
    "jp-MarkdownHeadingCollapsed": true
   },
   "source": [
    "# 19. isdigit()\n",
    "### returns true if all the character are digit,otherwise false"
   ]
  },
  {
   "cell_type": "code",
   "execution_count": 74,
   "id": "5ae8228d-dafe-495f-a6d0-dffeae2aa44b",
   "metadata": {},
   "outputs": [
    {
     "name": "stdout",
     "output_type": "stream",
     "text": [
      "False\n"
     ]
    }
   ],
   "source": [
    "str1= '20Shr'\n",
    "str2=str.isdigit()\n",
    "print(str2)"
   ]
  },
  {
   "cell_type": "code",
   "execution_count": 87,
   "id": "52c2db20-9ea3-4d24-ac8d-cce04feeff31",
   "metadata": {},
   "outputs": [
    {
     "name": "stdout",
     "output_type": "stream",
     "text": [
      "True\n"
     ]
    }
   ],
   "source": [
    "A='2024'\n",
    "B=A.isdigit()\n",
    "print(B)"
   ]
  },
  {
   "cell_type": "markdown",
   "id": "08818947-dd48-46ab-bbbd-32db120adb1f",
   "metadata": {},
   "source": [
    "# 20. isidentifier()\n",
    "### returns true if the string is a valid identifier, otherwise false."
   ]
  },
  {
   "cell_type": "code",
   "execution_count": 93,
   "id": "330171f5-3acb-4c3f-b656-85ccca294acd",
   "metadata": {},
   "outputs": [
    {
     "name": "stdout",
     "output_type": "stream",
     "text": [
      "False\n"
     ]
    }
   ],
   "source": [
    "a='@'\n",
    "b=a.isidentifier()\n",
    "print(b)"
   ]
  },
  {
   "cell_type": "code",
   "execution_count": 95,
   "id": "0575c482-ee55-4e1c-9941-fb32f2340b27",
   "metadata": {},
   "outputs": [
    {
     "name": "stdout",
     "output_type": "stream",
     "text": [
      "True\n"
     ]
    }
   ],
   "source": [
    "a='and'\n",
    "b=a.isidentifier()\n",
    "print(b)"
   ]
  },
  {
   "cell_type": "code",
   "execution_count": null,
   "id": "1df2a2f7-5b76-4e60-bc0b-394a1bb84606",
   "metadata": {},
   "outputs": [],
   "source": []
  }
 ],
 "metadata": {
  "kernelspec": {
   "display_name": "Python 3 (ipykernel)",
   "language": "python",
   "name": "python3"
  },
  "language_info": {
   "codemirror_mode": {
    "name": "ipython",
    "version": 3
   },
   "file_extension": ".py",
   "mimetype": "text/x-python",
   "name": "python",
   "nbconvert_exporter": "python",
   "pygments_lexer": "ipython3",
   "version": "3.12.4"
  }
 },
 "nbformat": 4,
 "nbformat_minor": 5
}
